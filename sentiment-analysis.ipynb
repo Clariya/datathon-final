{
 "cells": [
  {
   "cell_type": "code",
   "execution_count": 50,
   "id": "86286328",
   "metadata": {},
   "outputs": [
    {
     "data": {
      "text/html": [
       "\n",
       "    <style> body {font-family: \"Roboto Condensed Light\", \"Roboto Condensed\";} h2 {padding: 10px 12px; background-color: #E64626; position: static; color: #ffffff; font-size: 40px;} .text_cell_render p { font-size: 15px; } .text_cell_render h1 { font-size: 30px; } h1 {padding: 10px 12px; background-color: #E64626; color: #ffffff; font-size: 40px;} .text_cell_render h3 { padding: 10px 12px; background-color: #0148A4; position: static; color: #ffffff; font-size: 20px;} h4:before{ \n",
       "    content: \"@\"; font-family:\"Wingdings\"; font-style:regular; margin-right: 4px;} .text_cell_render h4 {padding: 8px; font-family: \"Roboto Condensed Light\"; position: static; font-style: italic; background-color: #FFB800; color: #ffffff; font-size: 18px; text-align: center; border-radius: 5px;}input[type=submit] {background-color: #E64626; border: solid; border-color: #734036; color: white; padding: 8px 16px; text-decoration: none; margin: 4px 2px; cursor: pointer; border-radius: 20px;}</style>\n"
      ],
      "text/plain": [
       "<IPython.core.display.HTML object>"
      ]
     },
     "execution_count": 50,
     "metadata": {},
     "output_type": "execute_result"
    }
   ],
   "source": [
    "# Note: this notebook was designed with the Roboto Condensed font, which can be installed here: https://www.1001fonts.com/roboto-condensed-font.html\n",
    "\n",
    "from IPython.display import HTML\n",
    "HTML('''\n",
    "    <style> body {font-family: \"Roboto Condensed Light\", \"Roboto Condensed\";} h2 {padding: 10px 12px; background-color: #E64626; position: static; color: #ffffff; font-size: 40px;} .text_cell_render p { font-size: 15px; } .text_cell_render h1 { font-size: 30px; } h1 {padding: 10px 12px; background-color: #E64626; color: #ffffff; font-size: 40px;} .text_cell_render h3 { padding: 10px 12px; background-color: #0148A4; position: static; color: #ffffff; font-size: 20px;} h4:before{ \n",
    "    content: \"@\"; font-family:\"Wingdings\"; font-style:regular; margin-right: 4px;} .text_cell_render h4 {padding: 8px; font-family: \"Roboto Condensed Light\"; position: static; font-style: italic; background-color: #FFB800; color: #ffffff; font-size: 18px; text-align: center; border-radius: 5px;}input[type=submit] {background-color: #E64626; border: solid; border-color: #734036; color: white; padding: 8px 16px; text-decoration: none; margin: 4px 2px; cursor: pointer; border-radius: 20px;}</style>\n",
    "''')"
   ]
  },
  {
   "cell_type": "markdown",
   "id": "84659cc5-5841-49a0-a4eb-d6d2bbfd85b6",
   "metadata": {
    "id": "84659cc5-5841-49a0-a4eb-d6d2bbfd85b6"
   },
   "source": [
    "## Introduction to sentiment analysis"
   ]
  },
  {
   "cell_type": "markdown",
   "id": "f937e999-a9d9-46b8-bfee-160936c9bf64",
   "metadata": {
    "id": "f937e999-a9d9-46b8-bfee-160936c9bf64"
   },
   "source": [
    "Sentiment analysis is an NLP technique that identifies the polarity of text, labeling it as positive, negative, or neutral.\n",
    "For example, the tweet\n",
    "\n",
    ">\"@usyd.sudata I hate your coffee catchtups\"\n",
    ">\n",
    "would be tagged as \"Negative,\" while\n",
    "\n",
    ">\"@usyd.sudata I've sent you a DM\"\n",
    ">\n",
    "would be \"Neutral, and\n",
    ">\"Thanks to @usyd.sudata for running the best datathon ever\"\n",
    ">\n",
    "\n",
    "would be \"Positive.\"\n",
    "\n",
    "This method processes large-scale data in real-time, making it easy to analyze tweets, reviews, or support tickets automatically, providing insights for data-driven decisions and automating tasks.\n",
    "\n",
    "Common applications include:\n",
    "\n",
    "- Analyzing social media mentions to track brand sentiment.\n",
    "- Reviewing feedback to understand customer preferences.\n",
    "- Flagging support tickets to address issues before they lead to churn.\n"
   ]
  },
  {
   "cell_type": "markdown",
   "id": "eb3ff25a-b8a2-43f0-8373-410f0b079fbd",
   "metadata": {
    "id": "eb3ff25a-b8a2-43f0-8373-410f0b079fbd"
   },
   "source": [
    "## Getting Started"
   ]
  },
  {
   "cell_type": "code",
   "execution_count": 2,
   "id": "b04eec4b-9088-4f8b-8aea-794a81d3824c",
   "metadata": {
    "id": "b04eec4b-9088-4f8b-8aea-794a81d3824c"
   },
   "outputs": [],
   "source": [
    "from pathlib import Path\n",
    "import pandas as pd\n",
    "import numpy as np\n",
    "import seaborn as sns\n",
    "import matplotlib.pyplot as plt\n",
    "import os\n",
    "from tqdm import tqdm\n",
    "import json\n",
    "\n",
    "# Styling\n",
    "color_pal = sns.color_palette(\"Set2\")\n",
    "plt.style.use('seaborn-v0_8-colorblind')\n",
    "\n",
    "# Warnings control\n",
    "import warnings\n",
    "warnings.filterwarnings('ignore')\n"
   ]
  },
  {
   "cell_type": "markdown",
   "id": "fd1ad951-d2e3-4bde-aa31-98ff0ca8bfe9",
   "metadata": {
    "id": "fd1ad951-d2e3-4bde-aa31-98ff0ca8bfe9"
   },
   "source": [
    "We'll start by using a pretrained model that is specifically trained on tweets."
   ]
  },
  {
   "cell_type": "markdown",
   "id": "87a3edc3-6466-4929-a97f-77cc8223b4e4",
   "metadata": {
    "id": "87a3edc3-6466-4929-a97f-77cc8223b4e4"
   },
   "source": [
    "Copy and paste this code and run it below:\n",
    "\n",
    "```!pip install -q -y transformers, emoji==0.6.0```"
   ]
  },
  {
   "cell_type": "code",
   "execution_count": 3,
   "id": "5881c498-0970-4de6-9a8a-6dbda146528b",
   "metadata": {
    "id": "5881c498-0970-4de6-9a8a-6dbda146528b"
   },
   "outputs": [],
   "source": [
    "from transformers import pipeline"
   ]
  },
  {
   "cell_type": "markdown",
   "id": "59026654-1b0e-4374-b206-0136fc4b44e8",
   "metadata": {
    "id": "59026654-1b0e-4374-b206-0136fc4b44e8"
   },
   "source": [
    "The following code will take ~2-3 minutes to run as it has to download a model."
   ]
  },
  {
   "cell_type": "code",
   "execution_count": 4,
   "id": "878f4da8-7756-47c0-b274-be2b3b71b9d9",
   "metadata": {
    "id": "878f4da8-7756-47c0-b274-be2b3b71b9d9",
    "outputId": "5e3b24c7-e3be-427f-e9e1-074fb9941068"
   },
   "outputs": [
    {
     "name": "stdout",
     "output_type": "stream",
     "text": [
      "WARNING:tensorflow:From e:\\python\\Lib\\site-packages\\tf_keras\\src\\losses.py:2976: The name tf.losses.sparse_softmax_cross_entropy is deprecated. Please use tf.compat.v1.losses.sparse_softmax_cross_entropy instead.\n",
      "\n"
     ]
    }
   ],
   "source": [
    "sentiment_pipeline = pipeline(model=\"finiteautomata/bertweet-base-sentiment-analysis\", device = -1)"
   ]
  },
  {
   "cell_type": "markdown",
   "id": "bb086afc-be6c-4520-9b24-22f9031aa09d",
   "metadata": {
    "id": "bb086afc-be6c-4520-9b24-22f9031aa09d"
   },
   "source": [
    "Ensure you are in the correct directory"
   ]
  },
  {
   "cell_type": "code",
   "execution_count": 5,
   "id": "f415f2c0-1bd1-42ea-9e40-cf2e69e5c0b3",
   "metadata": {
    "id": "f415f2c0-1bd1-42ea-9e40-cf2e69e5c0b3",
    "outputId": "826667cc-de09-495e-ae57-1392aba6ff5d"
   },
   "outputs": [
    {
     "data": {
      "text/plain": [
       "'e:\\\\desktop\\\\university of Sydney\\\\2024s2\\\\DATATHON_2024\\\\datathon-2024'"
      ]
     },
     "execution_count": 5,
     "metadata": {},
     "output_type": "execute_result"
    }
   ],
   "source": [
    "os.getcwd()"
   ]
  },
  {
   "cell_type": "code",
   "execution_count": 6,
   "id": "cc7477be-9bb7-459c-8a27-4b629ab4a27c",
   "metadata": {
    "id": "cc7477be-9bb7-459c-8a27-4b629ab4a27c"
   },
   "outputs": [],
   "source": [
    "tweet_path = Path('./tweet/') # Update your path here\n",
    "data_path = Path('./price/') # Update your path here"
   ]
  },
  {
   "cell_type": "markdown",
   "id": "efe2f647-99fc-480e-aec3-e52003b257d8",
   "metadata": {
    "id": "efe2f647-99fc-480e-aec3-e52003b257d8"
   },
   "source": [
    "Lets start by getting one day's worth of tweets and analysing the sentiment."
   ]
  },
  {
   "cell_type": "code",
   "execution_count": 7,
   "id": "183177ef-406f-47c0-9b79-2516dbf8d69c",
   "metadata": {
    "id": "183177ef-406f-47c0-9b79-2516dbf8d69c"
   },
   "outputs": [],
   "source": [
    "day = '2014-01-01'\n",
    "file_path = tweet_path / 'INTC' / day"
   ]
  },
  {
   "cell_type": "code",
   "execution_count": 8,
   "id": "06b47a71-18ee-4d2e-9bea-a7c920dd06b2",
   "metadata": {
    "id": "06b47a71-18ee-4d2e-9bea-a7c920dd06b2"
   },
   "outputs": [],
   "source": [
    "data = []\n",
    "with open(file_path, 'r') as f:\n",
    "    for line in f:\n",
    "        data.append(json.loads(line))\n",
    "tweet_df = pd.DataFrame(data)"
   ]
  },
  {
   "cell_type": "code",
   "execution_count": 9,
   "id": "2f210954-31d3-4ba4-baf2-63edeffb93c8",
   "metadata": {
    "id": "2f210954-31d3-4ba4-baf2-63edeffb93c8",
    "outputId": "c90a1436-1741-44e4-d028-e4dae4a87b44",
    "scrolled": true
   },
   "outputs": [
    {
     "data": {
      "text/html": [
       "<div>\n",
       "<style scoped>\n",
       "    .dataframe tbody tr th:only-of-type {\n",
       "        vertical-align: middle;\n",
       "    }\n",
       "\n",
       "    .dataframe tbody tr th {\n",
       "        vertical-align: top;\n",
       "    }\n",
       "\n",
       "    .dataframe thead th {\n",
       "        text-align: right;\n",
       "    }\n",
       "</style>\n",
       "<table border=\"1\" class=\"dataframe\">\n",
       "  <thead>\n",
       "    <tr style=\"text-align: right;\">\n",
       "      <th></th>\n",
       "      <th>text</th>\n",
       "      <th>created_at</th>\n",
       "      <th>user_id_str</th>\n",
       "    </tr>\n",
       "  </thead>\n",
       "  <tbody>\n",
       "    <tr>\n",
       "      <th>0</th>\n",
       "      <td>[2013, wrap-up, and, trading, set, review, -, ...</td>\n",
       "      <td>Wed Jan 01 10:52:20 +0000 2014</td>\n",
       "      <td>23059499</td>\n",
       "    </tr>\n",
       "    <tr>\n",
       "      <th>1</th>\n",
       "      <td>[dow, stocks, trend, $, axp, $, utx, $, csco, ...</td>\n",
       "      <td>Wed Jan 01 00:00:48 +0000 2014</td>\n",
       "      <td>567452784</td>\n",
       "    </tr>\n",
       "  </tbody>\n",
       "</table>\n",
       "</div>"
      ],
      "text/plain": [
       "                                                text  \\\n",
       "0  [2013, wrap-up, and, trading, set, review, -, ...   \n",
       "1  [dow, stocks, trend, $, axp, $, utx, $, csco, ...   \n",
       "\n",
       "                       created_at user_id_str  \n",
       "0  Wed Jan 01 10:52:20 +0000 2014    23059499  \n",
       "1  Wed Jan 01 00:00:48 +0000 2014   567452784  "
      ]
     },
     "execution_count": 9,
     "metadata": {},
     "output_type": "execute_result"
    }
   ],
   "source": [
    "tweet_df"
   ]
  },
  {
   "cell_type": "code",
   "execution_count": 10,
   "id": "7f455d1f-cd0e-4211-8bca-d32edb20925c",
   "metadata": {
    "id": "7f455d1f-cd0e-4211-8bca-d32edb20925c",
    "outputId": "e6e9091b-e62b-44eb-b715-a96796c0754c"
   },
   "outputs": [
    {
     "data": {
      "text/plain": [
       "'2013 wrap-up and trading set review - part iii URL $ aapl apple $ bp $ cnw $ csco $ csx $ cvx $ goog $ hpq $ ibm $ intc $ ngg'"
      ]
     },
     "execution_count": 10,
     "metadata": {},
     "output_type": "execute_result"
    }
   ],
   "source": [
    "\" \".join(tweet_df['text'].iloc[0])"
   ]
  },
  {
   "cell_type": "code",
   "execution_count": 11,
   "id": "62bf7f32-a94a-4f7c-bd1d-2703d8bc0867",
   "metadata": {
    "id": "62bf7f32-a94a-4f7c-bd1d-2703d8bc0867",
    "outputId": "e960654a-5b46-4cf0-e95a-83ebc3752bc4"
   },
   "outputs": [
    {
     "data": {
      "text/plain": [
       "[{'label': 'NEU', 'score': 0.9261446595191956}]"
      ]
     },
     "execution_count": 11,
     "metadata": {},
     "output_type": "execute_result"
    }
   ],
   "source": [
    "sentiment_pipeline(\" \".join(tweet_df['text'].iloc[0]))"
   ]
  },
  {
   "cell_type": "code",
   "execution_count": 12,
   "id": "89352625-2c75-4b29-8751-df9d4586a3b2",
   "metadata": {
    "id": "89352625-2c75-4b29-8751-df9d4586a3b2",
    "outputId": "11320e5e-3678-4bcf-8eac-fa6457104b76"
   },
   "outputs": [
    {
     "data": {
      "text/plain": [
       "0    {'label': 'NEU', 'score': 0.9261446595191956}\n",
       "dtype: object"
      ]
     },
     "execution_count": 12,
     "metadata": {},
     "output_type": "execute_result"
    }
   ],
   "source": [
    "res = sentiment_pipeline(\" \".join(tweet_df['text'].iloc[0]))\n",
    "pd.Series(res)"
   ]
  },
  {
   "cell_type": "code",
   "execution_count": 13,
   "id": "58d397d7-4f37-423d-b8c6-42a6ee0bc4a4",
   "metadata": {
    "id": "58d397d7-4f37-423d-b8c6-42a6ee0bc4a4"
   },
   "outputs": [],
   "source": [
    "def analyze_sentiment(text_tokens_list):\n",
    "    # for each row in column, join the text tokens together into a single string\n",
    "    texts = [' '.join(text_tokens) for text_tokens in text_tokens_list]\n",
    "    # apply the sentiment analysis to the entire list\n",
    "    results = sentiment_pipeline(texts)\n",
    "    # extract labels and scores for each result\n",
    "    sentiments = [(res['label'], res['score']) for res in results]\n",
    "\n",
    "    return sentiments"
   ]
  },
  {
   "cell_type": "code",
   "execution_count": 14,
   "id": "57bddaed-5fdc-4727-822c-367aeca346bb",
   "metadata": {
    "id": "57bddaed-5fdc-4727-822c-367aeca346bb"
   },
   "outputs": [],
   "source": [
    "sentiment_df = pd.DataFrame(analyze_sentiment(tweet_df['text']), columns=['sentiment', 'score'])\n",
    "\n",
    "tweet_df = pd.concat([tweet_df, sentiment_df], axis=1)"
   ]
  },
  {
   "cell_type": "code",
   "execution_count": 15,
   "id": "792b36a6-9b95-4681-bef9-25a4594aa87d",
   "metadata": {
    "id": "792b36a6-9b95-4681-bef9-25a4594aa87d",
    "outputId": "944414e9-601c-4b36-8dab-229e6dc4ef23"
   },
   "outputs": [
    {
     "data": {
      "text/html": [
       "<div>\n",
       "<style scoped>\n",
       "    .dataframe tbody tr th:only-of-type {\n",
       "        vertical-align: middle;\n",
       "    }\n",
       "\n",
       "    .dataframe tbody tr th {\n",
       "        vertical-align: top;\n",
       "    }\n",
       "\n",
       "    .dataframe thead th {\n",
       "        text-align: right;\n",
       "    }\n",
       "</style>\n",
       "<table border=\"1\" class=\"dataframe\">\n",
       "  <thead>\n",
       "    <tr style=\"text-align: right;\">\n",
       "      <th></th>\n",
       "      <th>text</th>\n",
       "      <th>created_at</th>\n",
       "      <th>user_id_str</th>\n",
       "      <th>sentiment</th>\n",
       "      <th>score</th>\n",
       "    </tr>\n",
       "  </thead>\n",
       "  <tbody>\n",
       "    <tr>\n",
       "      <th>0</th>\n",
       "      <td>[2013, wrap-up, and, trading, set, review, -, ...</td>\n",
       "      <td>Wed Jan 01 10:52:20 +0000 2014</td>\n",
       "      <td>23059499</td>\n",
       "      <td>NEU</td>\n",
       "      <td>0.926145</td>\n",
       "    </tr>\n",
       "    <tr>\n",
       "      <th>1</th>\n",
       "      <td>[dow, stocks, trend, $, axp, $, utx, $, csco, ...</td>\n",
       "      <td>Wed Jan 01 00:00:48 +0000 2014</td>\n",
       "      <td>567452784</td>\n",
       "      <td>NEU</td>\n",
       "      <td>0.958822</td>\n",
       "    </tr>\n",
       "  </tbody>\n",
       "</table>\n",
       "</div>"
      ],
      "text/plain": [
       "                                                text  \\\n",
       "0  [2013, wrap-up, and, trading, set, review, -, ...   \n",
       "1  [dow, stocks, trend, $, axp, $, utx, $, csco, ...   \n",
       "\n",
       "                       created_at user_id_str sentiment     score  \n",
       "0  Wed Jan 01 10:52:20 +0000 2014    23059499       NEU  0.926145  \n",
       "1  Wed Jan 01 00:00:48 +0000 2014   567452784       NEU  0.958822  "
      ]
     },
     "execution_count": 15,
     "metadata": {},
     "output_type": "execute_result"
    }
   ],
   "source": [
    "tweet_df.head(5)"
   ]
  },
  {
   "cell_type": "markdown",
   "id": "3a50728a-24ee-4498-8684-f08948957631",
   "metadata": {
    "id": "3a50728a-24ee-4498-8684-f08948957631"
   },
   "source": [
    "## Getting the Majority Sentiment"
   ]
  },
  {
   "cell_type": "markdown",
   "id": "zQ42i5hf1qKC",
   "metadata": {
    "id": "zQ42i5hf1qKC"
   },
   "source": [
    "Since we have multiple tweets on a given day, lets find a way to aggregate them and determine an overall sentiment for the day. We can start by trying the most frequent sentiment.\n",
    "\n"
   ]
  },
  {
   "cell_type": "code",
   "execution_count": 16,
   "id": "a2c12cd1-c171-49eb-bb75-a8703fdc4999",
   "metadata": {
    "id": "a2c12cd1-c171-49eb-bb75-a8703fdc4999"
   },
   "outputs": [],
   "source": [
    "most_frequent_sentiment = tweet_df['sentiment'].mode().values.flatten()[0]"
   ]
  },
  {
   "cell_type": "code",
   "execution_count": 17,
   "id": "732b845d-50cd-473d-8627-9af0149f95cd",
   "metadata": {
    "id": "732b845d-50cd-473d-8627-9af0149f95cd",
    "outputId": "03410970-8f17-460f-e7e0-ee70d8bbeeb1"
   },
   "outputs": [
    {
     "data": {
      "text/plain": [
       "'NEU'"
      ]
     },
     "execution_count": 17,
     "metadata": {},
     "output_type": "execute_result"
    }
   ],
   "source": [
    "most_frequent_sentiment"
   ]
  },
  {
   "cell_type": "markdown",
   "id": "7f9eb214-1bb2-4156-8dbd-04a6f2776b7d",
   "metadata": {
    "id": "7f9eb214-1bb2-4156-8dbd-04a6f2776b7d"
   },
   "source": [
    "Most of the time, the most frequent sentiment will be neutral, which is not very helpful. Lets try to only use positive / negative sentiments instead."
   ]
  },
  {
   "cell_type": "code",
   "execution_count": 18,
   "id": "cbc927be-b7eb-4d50-9c7b-cb91be7812ce",
   "metadata": {
    "id": "cbc927be-b7eb-4d50-9c7b-cb91be7812ce"
   },
   "outputs": [],
   "source": [
    "def determine_sentiment(sentiments):\n",
    "    # Count occurrences of \"POS\" and \"NEG\"\n",
    "    positive_count = sentiments.value_counts().get('POS', 0)\n",
    "    negative_count = sentiments.value_counts().get('NEG', 0)\n",
    "\n",
    "    # Logic to decide the final sentiment\n",
    "    if positive_count > negative_count:\n",
    "        return 'POS'\n",
    "    elif positive_count < negative_count:\n",
    "        return 'NEG'\n",
    "    else:\n",
    "        return 'NEU'"
   ]
  },
  {
   "cell_type": "code",
   "execution_count": 19,
   "id": "5f1d4e92-7ba0-42bf-a33c-0e73c10cab0d",
   "metadata": {
    "id": "5f1d4e92-7ba0-42bf-a33c-0e73c10cab0d",
    "outputId": "65bb3985-e129-4be2-bc53-7b1e77db9e0b"
   },
   "outputs": [
    {
     "data": {
      "text/plain": [
       "sentiment\n",
       "NEU    2\n",
       "Name: count, dtype: int64"
      ]
     },
     "execution_count": 19,
     "metadata": {},
     "output_type": "execute_result"
    }
   ],
   "source": [
    "tweet_df['sentiment'].value_counts()"
   ]
  },
  {
   "cell_type": "code",
   "execution_count": 20,
   "id": "e7e2f937-2b6e-41d1-9151-c31aa0c4123f",
   "metadata": {
    "id": "e7e2f937-2b6e-41d1-9151-c31aa0c4123f",
    "outputId": "c22c5617-e0ad-4d12-fe16-410041d697ec"
   },
   "outputs": [
    {
     "data": {
      "text/plain": [
       "'NEU'"
      ]
     },
     "execution_count": 20,
     "metadata": {},
     "output_type": "execute_result"
    }
   ],
   "source": [
    "determine_sentiment(tweet_df['sentiment'])"
   ]
  },
  {
   "cell_type": "markdown",
   "id": "0ec0e928-e5bb-4462-9129-58479884da5e",
   "metadata": {
    "id": "0ec0e928-e5bb-4462-9129-58479884da5e"
   },
   "source": [
    "### Getting the Majority Sentiment for all days"
   ]
  },
  {
   "cell_type": "code",
   "execution_count": 21,
   "id": "9a116f17-0dcb-4ac2-932e-f42cdc48c918",
   "metadata": {
    "id": "9a116f17-0dcb-4ac2-932e-f42cdc48c918"
   },
   "outputs": [],
   "source": [
    "stock = 'INTC'\n",
    "stock_path = tweet_path / stock"
   ]
  },
  {
   "cell_type": "code",
   "execution_count": 22,
   "id": "788ed450-74f8-4b33-b0e8-e1359589a09f",
   "metadata": {
    "id": "788ed450-74f8-4b33-b0e8-e1359589a09f",
    "outputId": "8c2a35cf-b68a-40d3-f58a-e8f7c59117c0"
   },
   "outputs": [
    {
     "data": {
      "text/plain": [
       "['2014-01-01', '2014-01-02', '2014-01-03', '2014-01-05', '2014-01-06']"
      ]
     },
     "execution_count": 22,
     "metadata": {},
     "output_type": "execute_result"
    }
   ],
   "source": [
    "# gets list of dates in this dir\n",
    "files = [file.stem for file in stock_path.iterdir()]\n",
    "files[:5]"
   ]
  },
  {
   "cell_type": "code",
   "execution_count": 23,
   "id": "70cc7d70-8c75-4c7e-88d4-7625825ffc0f",
   "metadata": {
    "id": "70cc7d70-8c75-4c7e-88d4-7625825ffc0f"
   },
   "outputs": [],
   "source": [
    "def get_sentiment(file_path):\n",
    "    data = []\n",
    "    with open(file_path, 'r') as f:\n",
    "        for line in f:\n",
    "            data.append(json.loads(line))\n",
    "\n",
    "    tweet_df = pd.DataFrame(data)\n",
    "    tweet_date = file_path.stem\n",
    "\n",
    "    # Apply sentiment analysis to the 'text' column and get all sentiments\n",
    "    sentiments = [item[0] for item in analyze_sentiment(tweet_df['text'])]\n",
    "    tweet_df['sentiment'] = sentiments\n",
    "\n",
    "    sentiment = determine_sentiment(tweet_df['sentiment'])\n",
    "\n",
    "    # Return the date and majority sentiment as a dictionary or other format\n",
    "    return {'Date': str(tweet_date), 'Sentiment': sentiment}"
   ]
  },
  {
   "cell_type": "code",
   "execution_count": 24,
   "id": "bac69056-66a2-45b4-ba93-7a18ab205381",
   "metadata": {
    "id": "bac69056-66a2-45b4-ba93-7a18ab205381",
    "outputId": "5b69d776-1b2e-4b31-fadf-071bc6d6b559"
   },
   "outputs": [
    {
     "data": {
      "text/plain": [
       "{'Date': '2014-01-05', 'Sentiment': 'NEU'}"
      ]
     },
     "execution_count": 24,
     "metadata": {},
     "output_type": "execute_result"
    }
   ],
   "source": [
    "get_sentiment(stock_path / files[3])"
   ]
  },
  {
   "cell_type": "code",
   "execution_count": 25,
   "id": "54e5f410-2c74-4615-9ca8-1ab382db0817",
   "metadata": {
    "id": "54e5f410-2c74-4615-9ca8-1ab382db0817",
    "outputId": "dfad68c3-882e-4126-9b37-22b8a785dcea"
   },
   "outputs": [
    {
     "name": "stderr",
     "output_type": "stream",
     "text": [
      "Processing all files: 100%|██████████| 566/566 [01:45<00:00,  5.36it/s]\n"
     ]
    }
   ],
   "source": [
    "all_sentiments = []\n",
    "# Adds a progess bar for all the sentiments\n",
    "# This will take some time # 1-2 minutes\n",
    "for file in tqdm(files, \"Processing all files\"):\n",
    "    file_path = stock_path / file\n",
    "    try:\n",
    "        result = get_sentiment(file_path)\n",
    "        all_sentiments.append(result)\n",
    "    except:\n",
    "        print(f\"Sentiment parsing failed for {file_path}\")"
   ]
  },
  {
   "cell_type": "code",
   "execution_count": 26,
   "id": "47463032-05dc-46a9-8231-c6c3cb9b31a1",
   "metadata": {
    "id": "47463032-05dc-46a9-8231-c6c3cb9b31a1",
    "outputId": "b73f817b-1b4b-4114-8a33-dc3dec80e693"
   },
   "outputs": [
    {
     "data": {
      "text/plain": [
       "[{'Date': '2014-01-01', 'Sentiment': 'NEU'},\n",
       " {'Date': '2014-01-02', 'Sentiment': 'NEU'},\n",
       " {'Date': '2014-01-03', 'Sentiment': 'POS'},\n",
       " {'Date': '2014-01-05', 'Sentiment': 'NEU'},\n",
       " {'Date': '2014-01-06', 'Sentiment': 'NEU'}]"
      ]
     },
     "execution_count": 26,
     "metadata": {},
     "output_type": "execute_result"
    }
   ],
   "source": [
    "all_sentiments[:5]"
   ]
  },
  {
   "cell_type": "markdown",
   "id": "93551ec2-48ec-451e-8b3c-e0688985a443",
   "metadata": {
    "id": "93551ec2-48ec-451e-8b3c-e0688985a443"
   },
   "source": [
    "### Appending result to stock prices, and visualising"
   ]
  },
  {
   "cell_type": "code",
   "execution_count": 27,
   "id": "2175146b-1102-4743-8f4d-2ae3befcdcb7",
   "metadata": {
    "id": "2175146b-1102-4743-8f4d-2ae3befcdcb7"
   },
   "outputs": [],
   "source": [
    "data_path = Path('./price/INTC.csv') # Update your path here\n",
    "df = pd.read_csv(data_path, header=0)"
   ]
  },
  {
   "cell_type": "code",
   "execution_count": 28,
   "id": "0163afbc-a249-4294-9db9-8aaabf996980",
   "metadata": {
    "id": "0163afbc-a249-4294-9db9-8aaabf996980"
   },
   "outputs": [],
   "source": [
    "sentiment_df = pd.DataFrame(all_sentiments)"
   ]
  },
  {
   "cell_type": "code",
   "execution_count": 29,
   "id": "de7665eb",
   "metadata": {},
   "outputs": [],
   "source": [
    "sentiment_df.to_csv('sentiment_data.csv', index=False)"
   ]
  },
  {
   "cell_type": "code",
   "execution_count": 30,
   "id": "091d7749-6fb7-4540-99e0-0a320474e19b",
   "metadata": {
    "id": "091d7749-6fb7-4540-99e0-0a320474e19b",
    "outputId": "f5d27f8e-96af-435d-dc36-b46ba019308d"
   },
   "outputs": [
    {
     "data": {
      "text/html": [
       "<div>\n",
       "<style scoped>\n",
       "    .dataframe tbody tr th:only-of-type {\n",
       "        vertical-align: middle;\n",
       "    }\n",
       "\n",
       "    .dataframe tbody tr th {\n",
       "        vertical-align: top;\n",
       "    }\n",
       "\n",
       "    .dataframe thead th {\n",
       "        text-align: right;\n",
       "    }\n",
       "</style>\n",
       "<table border=\"1\" class=\"dataframe\">\n",
       "  <thead>\n",
       "    <tr style=\"text-align: right;\">\n",
       "      <th></th>\n",
       "      <th>Date</th>\n",
       "      <th>Sentiment</th>\n",
       "    </tr>\n",
       "  </thead>\n",
       "  <tbody>\n",
       "    <tr>\n",
       "      <th>0</th>\n",
       "      <td>2014-01-01</td>\n",
       "      <td>NEU</td>\n",
       "    </tr>\n",
       "    <tr>\n",
       "      <th>1</th>\n",
       "      <td>2014-01-02</td>\n",
       "      <td>NEU</td>\n",
       "    </tr>\n",
       "    <tr>\n",
       "      <th>2</th>\n",
       "      <td>2014-01-03</td>\n",
       "      <td>POS</td>\n",
       "    </tr>\n",
       "    <tr>\n",
       "      <th>3</th>\n",
       "      <td>2014-01-05</td>\n",
       "      <td>NEU</td>\n",
       "    </tr>\n",
       "    <tr>\n",
       "      <th>4</th>\n",
       "      <td>2014-01-06</td>\n",
       "      <td>NEU</td>\n",
       "    </tr>\n",
       "  </tbody>\n",
       "</table>\n",
       "</div>"
      ],
      "text/plain": [
       "         Date Sentiment\n",
       "0  2014-01-01       NEU\n",
       "1  2014-01-02       NEU\n",
       "2  2014-01-03       POS\n",
       "3  2014-01-05       NEU\n",
       "4  2014-01-06       NEU"
      ]
     },
     "execution_count": 30,
     "metadata": {},
     "output_type": "execute_result"
    }
   ],
   "source": [
    "sentiment_df.head()"
   ]
  },
  {
   "cell_type": "code",
   "execution_count": 31,
   "id": "60fc1c17-5c13-4bd0-8b76-4b6c39dc6fb7",
   "metadata": {
    "id": "60fc1c17-5c13-4bd0-8b76-4b6c39dc6fb7"
   },
   "outputs": [],
   "source": [
    "sentiment_df = sentiment_df.sort_values('Date')"
   ]
  },
  {
   "cell_type": "code",
   "execution_count": 32,
   "id": "30c5354a-c77f-4ba7-a6d7-d1ee26260112",
   "metadata": {
    "id": "30c5354a-c77f-4ba7-a6d7-d1ee26260112"
   },
   "outputs": [],
   "source": [
    "sentiment_df.set_index('Date', inplace=True)\n",
    "sentiment_df.index = pd.to_datetime(sentiment_df.index)"
   ]
  },
  {
   "cell_type": "code",
   "execution_count": 33,
   "id": "f49e6363-cd3e-44bc-9b28-3803c07e095f",
   "metadata": {
    "id": "f49e6363-cd3e-44bc-9b28-3803c07e095f",
    "outputId": "fdbfac54-dd04-490b-ec78-4efc4b93c270"
   },
   "outputs": [
    {
     "data": {
      "text/html": [
       "<div>\n",
       "<style scoped>\n",
       "    .dataframe tbody tr th:only-of-type {\n",
       "        vertical-align: middle;\n",
       "    }\n",
       "\n",
       "    .dataframe tbody tr th {\n",
       "        vertical-align: top;\n",
       "    }\n",
       "\n",
       "    .dataframe thead th {\n",
       "        text-align: right;\n",
       "    }\n",
       "</style>\n",
       "<table border=\"1\" class=\"dataframe\">\n",
       "  <thead>\n",
       "    <tr style=\"text-align: right;\">\n",
       "      <th></th>\n",
       "      <th>Sentiment</th>\n",
       "    </tr>\n",
       "    <tr>\n",
       "      <th>Date</th>\n",
       "      <th></th>\n",
       "    </tr>\n",
       "  </thead>\n",
       "  <tbody>\n",
       "    <tr>\n",
       "      <th>2014-01-01</th>\n",
       "      <td>NEU</td>\n",
       "    </tr>\n",
       "    <tr>\n",
       "      <th>2014-01-02</th>\n",
       "      <td>NEU</td>\n",
       "    </tr>\n",
       "    <tr>\n",
       "      <th>2014-01-03</th>\n",
       "      <td>POS</td>\n",
       "    </tr>\n",
       "    <tr>\n",
       "      <th>2014-01-05</th>\n",
       "      <td>NEU</td>\n",
       "    </tr>\n",
       "    <tr>\n",
       "      <th>2014-01-06</th>\n",
       "      <td>NEU</td>\n",
       "    </tr>\n",
       "    <tr>\n",
       "      <th>...</th>\n",
       "      <td>...</td>\n",
       "    </tr>\n",
       "    <tr>\n",
       "      <th>2015-12-27</th>\n",
       "      <td>NEU</td>\n",
       "    </tr>\n",
       "    <tr>\n",
       "      <th>2015-12-28</th>\n",
       "      <td>NEU</td>\n",
       "    </tr>\n",
       "    <tr>\n",
       "      <th>2015-12-29</th>\n",
       "      <td>POS</td>\n",
       "    </tr>\n",
       "    <tr>\n",
       "      <th>2015-12-30</th>\n",
       "      <td>POS</td>\n",
       "    </tr>\n",
       "    <tr>\n",
       "      <th>2015-12-31</th>\n",
       "      <td>NEU</td>\n",
       "    </tr>\n",
       "  </tbody>\n",
       "</table>\n",
       "<p>566 rows × 1 columns</p>\n",
       "</div>"
      ],
      "text/plain": [
       "           Sentiment\n",
       "Date                \n",
       "2014-01-01       NEU\n",
       "2014-01-02       NEU\n",
       "2014-01-03       POS\n",
       "2014-01-05       NEU\n",
       "2014-01-06       NEU\n",
       "...              ...\n",
       "2015-12-27       NEU\n",
       "2015-12-28       NEU\n",
       "2015-12-29       POS\n",
       "2015-12-30       POS\n",
       "2015-12-31       NEU\n",
       "\n",
       "[566 rows x 1 columns]"
      ]
     },
     "execution_count": 33,
     "metadata": {},
     "output_type": "execute_result"
    }
   ],
   "source": [
    "sentiment_df"
   ]
  },
  {
   "cell_type": "code",
   "execution_count": 34,
   "id": "bf9286b3-6559-4610-b084-fb521bcf8f50",
   "metadata": {
    "id": "bf9286b3-6559-4610-b084-fb521bcf8f50"
   },
   "outputs": [],
   "source": [
    "df.set_index('Date', inplace=True)\n",
    "df.index = pd.to_datetime(df.index)"
   ]
  },
  {
   "cell_type": "code",
   "execution_count": 35,
   "id": "afb4c919-073f-4f5c-b070-a947cc9c072c",
   "metadata": {
    "id": "afb4c919-073f-4f5c-b070-a947cc9c072c",
    "outputId": "89f0fbce-cb97-49ca-fa4e-3a91ed64e511"
   },
   "outputs": [
    {
     "data": {
      "text/html": [
       "<div>\n",
       "<style scoped>\n",
       "    .dataframe tbody tr th:only-of-type {\n",
       "        vertical-align: middle;\n",
       "    }\n",
       "\n",
       "    .dataframe tbody tr th {\n",
       "        vertical-align: top;\n",
       "    }\n",
       "\n",
       "    .dataframe thead th {\n",
       "        text-align: right;\n",
       "    }\n",
       "</style>\n",
       "<table border=\"1\" class=\"dataframe\">\n",
       "  <thead>\n",
       "    <tr style=\"text-align: right;\">\n",
       "      <th></th>\n",
       "      <th>Open</th>\n",
       "      <th>High</th>\n",
       "      <th>Low</th>\n",
       "      <th>Close</th>\n",
       "      <th>Adj Close</th>\n",
       "      <th>Volume</th>\n",
       "    </tr>\n",
       "    <tr>\n",
       "      <th>Date</th>\n",
       "      <th></th>\n",
       "      <th></th>\n",
       "      <th></th>\n",
       "      <th></th>\n",
       "      <th></th>\n",
       "      <th></th>\n",
       "    </tr>\n",
       "  </thead>\n",
       "  <tbody>\n",
       "    <tr>\n",
       "      <th>2012-09-04</th>\n",
       "      <td>25.030001</td>\n",
       "      <td>25.059999</td>\n",
       "      <td>24.270000</td>\n",
       "      <td>24.420000</td>\n",
       "      <td>20.711935</td>\n",
       "      <td>40688000</td>\n",
       "    </tr>\n",
       "    <tr>\n",
       "      <th>2012-09-05</th>\n",
       "      <td>24.400000</td>\n",
       "      <td>24.780001</td>\n",
       "      <td>24.190001</td>\n",
       "      <td>24.389999</td>\n",
       "      <td>20.686487</td>\n",
       "      <td>38595800</td>\n",
       "    </tr>\n",
       "    <tr>\n",
       "      <th>2012-09-06</th>\n",
       "      <td>24.469999</td>\n",
       "      <td>25.100000</td>\n",
       "      <td>24.459999</td>\n",
       "      <td>25.100000</td>\n",
       "      <td>21.288677</td>\n",
       "      <td>40187600</td>\n",
       "    </tr>\n",
       "    <tr>\n",
       "      <th>2012-09-07</th>\n",
       "      <td>24.129999</td>\n",
       "      <td>24.700001</td>\n",
       "      <td>24.010000</td>\n",
       "      <td>24.190001</td>\n",
       "      <td>20.516853</td>\n",
       "      <td>86282100</td>\n",
       "    </tr>\n",
       "    <tr>\n",
       "      <th>2012-09-10</th>\n",
       "      <td>23.950001</td>\n",
       "      <td>24.600000</td>\n",
       "      <td>23.170000</td>\n",
       "      <td>23.260000</td>\n",
       "      <td>19.728077</td>\n",
       "      <td>80584600</td>\n",
       "    </tr>\n",
       "    <tr>\n",
       "      <th>...</th>\n",
       "      <td>...</td>\n",
       "      <td>...</td>\n",
       "      <td>...</td>\n",
       "      <td>...</td>\n",
       "      <td>...</td>\n",
       "      <td>...</td>\n",
       "    </tr>\n",
       "    <tr>\n",
       "      <th>2017-08-28</th>\n",
       "      <td>34.779999</td>\n",
       "      <td>34.799999</td>\n",
       "      <td>34.590000</td>\n",
       "      <td>34.650002</td>\n",
       "      <td>34.650002</td>\n",
       "      <td>20712900</td>\n",
       "    </tr>\n",
       "    <tr>\n",
       "      <th>2017-08-29</th>\n",
       "      <td>34.509998</td>\n",
       "      <td>34.750000</td>\n",
       "      <td>34.459999</td>\n",
       "      <td>34.730000</td>\n",
       "      <td>34.730000</td>\n",
       "      <td>15843700</td>\n",
       "    </tr>\n",
       "    <tr>\n",
       "      <th>2017-08-30</th>\n",
       "      <td>34.750000</td>\n",
       "      <td>34.959999</td>\n",
       "      <td>34.630001</td>\n",
       "      <td>34.889999</td>\n",
       "      <td>34.889999</td>\n",
       "      <td>18565000</td>\n",
       "    </tr>\n",
       "    <tr>\n",
       "      <th>2017-08-31</th>\n",
       "      <td>34.939999</td>\n",
       "      <td>35.180000</td>\n",
       "      <td>34.869999</td>\n",
       "      <td>35.070000</td>\n",
       "      <td>35.070000</td>\n",
       "      <td>16366800</td>\n",
       "    </tr>\n",
       "    <tr>\n",
       "      <th>2017-09-01</th>\n",
       "      <td>35.240002</td>\n",
       "      <td>35.389999</td>\n",
       "      <td>35.070000</td>\n",
       "      <td>35.090000</td>\n",
       "      <td>35.090000</td>\n",
       "      <td>12818900</td>\n",
       "    </tr>\n",
       "  </tbody>\n",
       "</table>\n",
       "<p>1258 rows × 6 columns</p>\n",
       "</div>"
      ],
      "text/plain": [
       "                 Open       High        Low      Close  Adj Close    Volume\n",
       "Date                                                                       \n",
       "2012-09-04  25.030001  25.059999  24.270000  24.420000  20.711935  40688000\n",
       "2012-09-05  24.400000  24.780001  24.190001  24.389999  20.686487  38595800\n",
       "2012-09-06  24.469999  25.100000  24.459999  25.100000  21.288677  40187600\n",
       "2012-09-07  24.129999  24.700001  24.010000  24.190001  20.516853  86282100\n",
       "2012-09-10  23.950001  24.600000  23.170000  23.260000  19.728077  80584600\n",
       "...               ...        ...        ...        ...        ...       ...\n",
       "2017-08-28  34.779999  34.799999  34.590000  34.650002  34.650002  20712900\n",
       "2017-08-29  34.509998  34.750000  34.459999  34.730000  34.730000  15843700\n",
       "2017-08-30  34.750000  34.959999  34.630001  34.889999  34.889999  18565000\n",
       "2017-08-31  34.939999  35.180000  34.869999  35.070000  35.070000  16366800\n",
       "2017-09-01  35.240002  35.389999  35.070000  35.090000  35.090000  12818900\n",
       "\n",
       "[1258 rows x 6 columns]"
      ]
     },
     "execution_count": 35,
     "metadata": {},
     "output_type": "execute_result"
    }
   ],
   "source": [
    "df"
   ]
  },
  {
   "cell_type": "code",
   "execution_count": 36,
   "id": "d9230406-1272-45a3-b365-de8c46191ecc",
   "metadata": {
    "id": "d9230406-1272-45a3-b365-de8c46191ecc"
   },
   "outputs": [],
   "source": [
    "combined_df = pd.merge(df, sentiment_df, left_index=True, right_index=True, how='outer')"
   ]
  },
  {
   "cell_type": "code",
   "execution_count": 37,
   "id": "b8811369-312b-4f5f-b40b-4556e0c330b1",
   "metadata": {
    "id": "b8811369-312b-4f5f-b40b-4556e0c330b1",
    "outputId": "bfbe62f8-b5df-429e-9cca-85a564306fd1"
   },
   "outputs": [
    {
     "data": {
      "text/html": [
       "<div>\n",
       "<style scoped>\n",
       "    .dataframe tbody tr th:only-of-type {\n",
       "        vertical-align: middle;\n",
       "    }\n",
       "\n",
       "    .dataframe tbody tr th {\n",
       "        vertical-align: top;\n",
       "    }\n",
       "\n",
       "    .dataframe thead th {\n",
       "        text-align: right;\n",
       "    }\n",
       "</style>\n",
       "<table border=\"1\" class=\"dataframe\">\n",
       "  <thead>\n",
       "    <tr style=\"text-align: right;\">\n",
       "      <th></th>\n",
       "      <th>Open</th>\n",
       "      <th>High</th>\n",
       "      <th>Low</th>\n",
       "      <th>Close</th>\n",
       "      <th>Adj Close</th>\n",
       "      <th>Volume</th>\n",
       "      <th>Sentiment</th>\n",
       "    </tr>\n",
       "    <tr>\n",
       "      <th>Date</th>\n",
       "      <th></th>\n",
       "      <th></th>\n",
       "      <th></th>\n",
       "      <th></th>\n",
       "      <th></th>\n",
       "      <th></th>\n",
       "      <th></th>\n",
       "    </tr>\n",
       "  </thead>\n",
       "  <tbody>\n",
       "    <tr>\n",
       "      <th>2012-09-04</th>\n",
       "      <td>25.030001</td>\n",
       "      <td>25.059999</td>\n",
       "      <td>24.270000</td>\n",
       "      <td>24.420000</td>\n",
       "      <td>20.711935</td>\n",
       "      <td>40688000.0</td>\n",
       "      <td>NaN</td>\n",
       "    </tr>\n",
       "    <tr>\n",
       "      <th>2012-09-05</th>\n",
       "      <td>24.400000</td>\n",
       "      <td>24.780001</td>\n",
       "      <td>24.190001</td>\n",
       "      <td>24.389999</td>\n",
       "      <td>20.686487</td>\n",
       "      <td>38595800.0</td>\n",
       "      <td>NaN</td>\n",
       "    </tr>\n",
       "    <tr>\n",
       "      <th>2012-09-06</th>\n",
       "      <td>24.469999</td>\n",
       "      <td>25.100000</td>\n",
       "      <td>24.459999</td>\n",
       "      <td>25.100000</td>\n",
       "      <td>21.288677</td>\n",
       "      <td>40187600.0</td>\n",
       "      <td>NaN</td>\n",
       "    </tr>\n",
       "    <tr>\n",
       "      <th>2012-09-07</th>\n",
       "      <td>24.129999</td>\n",
       "      <td>24.700001</td>\n",
       "      <td>24.010000</td>\n",
       "      <td>24.190001</td>\n",
       "      <td>20.516853</td>\n",
       "      <td>86282100.0</td>\n",
       "      <td>NaN</td>\n",
       "    </tr>\n",
       "    <tr>\n",
       "      <th>2012-09-10</th>\n",
       "      <td>23.950001</td>\n",
       "      <td>24.600000</td>\n",
       "      <td>23.170000</td>\n",
       "      <td>23.260000</td>\n",
       "      <td>19.728077</td>\n",
       "      <td>80584600.0</td>\n",
       "      <td>NaN</td>\n",
       "    </tr>\n",
       "  </tbody>\n",
       "</table>\n",
       "</div>"
      ],
      "text/plain": [
       "                 Open       High        Low      Close  Adj Close      Volume  \\\n",
       "Date                                                                            \n",
       "2012-09-04  25.030001  25.059999  24.270000  24.420000  20.711935  40688000.0   \n",
       "2012-09-05  24.400000  24.780001  24.190001  24.389999  20.686487  38595800.0   \n",
       "2012-09-06  24.469999  25.100000  24.459999  25.100000  21.288677  40187600.0   \n",
       "2012-09-07  24.129999  24.700001  24.010000  24.190001  20.516853  86282100.0   \n",
       "2012-09-10  23.950001  24.600000  23.170000  23.260000  19.728077  80584600.0   \n",
       "\n",
       "           Sentiment  \n",
       "Date                  \n",
       "2012-09-04       NaN  \n",
       "2012-09-05       NaN  \n",
       "2012-09-06       NaN  \n",
       "2012-09-07       NaN  \n",
       "2012-09-10       NaN  "
      ]
     },
     "execution_count": 37,
     "metadata": {},
     "output_type": "execute_result"
    }
   ],
   "source": [
    "combined_df.head()"
   ]
  },
  {
   "cell_type": "code",
   "execution_count": 38,
   "id": "d90ea830-7ba9-4af9-b788-4acc46cf89b1",
   "metadata": {
    "id": "d90ea830-7ba9-4af9-b788-4acc46cf89b1",
    "outputId": "80cd2b28-eac7-4f1f-a4ee-8062cddb9360"
   },
   "outputs": [
    {
     "data": {
      "text/plain": [
       "Sentiment\n",
       "NEU    331\n",
       "POS    173\n",
       "NEG     62\n",
       "Name: count, dtype: int64"
      ]
     },
     "execution_count": 38,
     "metadata": {},
     "output_type": "execute_result"
    }
   ],
   "source": [
    "combined_df['Sentiment'].value_counts()"
   ]
  },
  {
   "cell_type": "code",
   "execution_count": 39,
   "id": "0abd398f-70ab-42ef-93ca-030acd531bcb",
   "metadata": {
    "id": "0abd398f-70ab-42ef-93ca-030acd531bcb",
    "outputId": "27dcc3a7-30f7-4ffb-98ae-3986e159ed8c"
   },
   "outputs": [
    {
     "data": {
      "text/html": [
       "<div>\n",
       "<style scoped>\n",
       "    .dataframe tbody tr th:only-of-type {\n",
       "        vertical-align: middle;\n",
       "    }\n",
       "\n",
       "    .dataframe tbody tr th {\n",
       "        vertical-align: top;\n",
       "    }\n",
       "\n",
       "    .dataframe thead th {\n",
       "        text-align: right;\n",
       "    }\n",
       "</style>\n",
       "<table border=\"1\" class=\"dataframe\">\n",
       "  <thead>\n",
       "    <tr style=\"text-align: right;\">\n",
       "      <th></th>\n",
       "      <th>Open</th>\n",
       "      <th>High</th>\n",
       "      <th>Low</th>\n",
       "      <th>Close</th>\n",
       "      <th>Adj Close</th>\n",
       "      <th>Volume</th>\n",
       "      <th>Sentiment</th>\n",
       "    </tr>\n",
       "    <tr>\n",
       "      <th>Date</th>\n",
       "      <th></th>\n",
       "      <th></th>\n",
       "      <th></th>\n",
       "      <th></th>\n",
       "      <th></th>\n",
       "      <th></th>\n",
       "      <th></th>\n",
       "    </tr>\n",
       "  </thead>\n",
       "  <tbody>\n",
       "    <tr>\n",
       "      <th>2012-09-04</th>\n",
       "      <td>25.030001</td>\n",
       "      <td>25.059999</td>\n",
       "      <td>24.270000</td>\n",
       "      <td>24.420000</td>\n",
       "      <td>20.711935</td>\n",
       "      <td>40688000.0</td>\n",
       "      <td>NaN</td>\n",
       "    </tr>\n",
       "    <tr>\n",
       "      <th>2012-09-05</th>\n",
       "      <td>24.400000</td>\n",
       "      <td>24.780001</td>\n",
       "      <td>24.190001</td>\n",
       "      <td>24.389999</td>\n",
       "      <td>20.686487</td>\n",
       "      <td>38595800.0</td>\n",
       "      <td>NaN</td>\n",
       "    </tr>\n",
       "    <tr>\n",
       "      <th>2012-09-06</th>\n",
       "      <td>24.469999</td>\n",
       "      <td>25.100000</td>\n",
       "      <td>24.459999</td>\n",
       "      <td>25.100000</td>\n",
       "      <td>21.288677</td>\n",
       "      <td>40187600.0</td>\n",
       "      <td>NaN</td>\n",
       "    </tr>\n",
       "    <tr>\n",
       "      <th>2012-09-07</th>\n",
       "      <td>24.129999</td>\n",
       "      <td>24.700001</td>\n",
       "      <td>24.010000</td>\n",
       "      <td>24.190001</td>\n",
       "      <td>20.516853</td>\n",
       "      <td>86282100.0</td>\n",
       "      <td>NaN</td>\n",
       "    </tr>\n",
       "    <tr>\n",
       "      <th>2012-09-10</th>\n",
       "      <td>23.950001</td>\n",
       "      <td>24.600000</td>\n",
       "      <td>23.170000</td>\n",
       "      <td>23.260000</td>\n",
       "      <td>19.728077</td>\n",
       "      <td>80584600.0</td>\n",
       "      <td>NaN</td>\n",
       "    </tr>\n",
       "    <tr>\n",
       "      <th>...</th>\n",
       "      <td>...</td>\n",
       "      <td>...</td>\n",
       "      <td>...</td>\n",
       "      <td>...</td>\n",
       "      <td>...</td>\n",
       "      <td>...</td>\n",
       "      <td>...</td>\n",
       "    </tr>\n",
       "    <tr>\n",
       "      <th>2017-08-28</th>\n",
       "      <td>34.779999</td>\n",
       "      <td>34.799999</td>\n",
       "      <td>34.590000</td>\n",
       "      <td>34.650002</td>\n",
       "      <td>34.650002</td>\n",
       "      <td>20712900.0</td>\n",
       "      <td>NaN</td>\n",
       "    </tr>\n",
       "    <tr>\n",
       "      <th>2017-08-29</th>\n",
       "      <td>34.509998</td>\n",
       "      <td>34.750000</td>\n",
       "      <td>34.459999</td>\n",
       "      <td>34.730000</td>\n",
       "      <td>34.730000</td>\n",
       "      <td>15843700.0</td>\n",
       "      <td>NaN</td>\n",
       "    </tr>\n",
       "    <tr>\n",
       "      <th>2017-08-30</th>\n",
       "      <td>34.750000</td>\n",
       "      <td>34.959999</td>\n",
       "      <td>34.630001</td>\n",
       "      <td>34.889999</td>\n",
       "      <td>34.889999</td>\n",
       "      <td>18565000.0</td>\n",
       "      <td>NaN</td>\n",
       "    </tr>\n",
       "    <tr>\n",
       "      <th>2017-08-31</th>\n",
       "      <td>34.939999</td>\n",
       "      <td>35.180000</td>\n",
       "      <td>34.869999</td>\n",
       "      <td>35.070000</td>\n",
       "      <td>35.070000</td>\n",
       "      <td>16366800.0</td>\n",
       "      <td>NaN</td>\n",
       "    </tr>\n",
       "    <tr>\n",
       "      <th>2017-09-01</th>\n",
       "      <td>35.240002</td>\n",
       "      <td>35.389999</td>\n",
       "      <td>35.070000</td>\n",
       "      <td>35.090000</td>\n",
       "      <td>35.090000</td>\n",
       "      <td>12818900.0</td>\n",
       "      <td>NaN</td>\n",
       "    </tr>\n",
       "  </tbody>\n",
       "</table>\n",
       "<p>1411 rows × 7 columns</p>\n",
       "</div>"
      ],
      "text/plain": [
       "                 Open       High        Low      Close  Adj Close      Volume  \\\n",
       "Date                                                                            \n",
       "2012-09-04  25.030001  25.059999  24.270000  24.420000  20.711935  40688000.0   \n",
       "2012-09-05  24.400000  24.780001  24.190001  24.389999  20.686487  38595800.0   \n",
       "2012-09-06  24.469999  25.100000  24.459999  25.100000  21.288677  40187600.0   \n",
       "2012-09-07  24.129999  24.700001  24.010000  24.190001  20.516853  86282100.0   \n",
       "2012-09-10  23.950001  24.600000  23.170000  23.260000  19.728077  80584600.0   \n",
       "...               ...        ...        ...        ...        ...         ...   \n",
       "2017-08-28  34.779999  34.799999  34.590000  34.650002  34.650002  20712900.0   \n",
       "2017-08-29  34.509998  34.750000  34.459999  34.730000  34.730000  15843700.0   \n",
       "2017-08-30  34.750000  34.959999  34.630001  34.889999  34.889999  18565000.0   \n",
       "2017-08-31  34.939999  35.180000  34.869999  35.070000  35.070000  16366800.0   \n",
       "2017-09-01  35.240002  35.389999  35.070000  35.090000  35.090000  12818900.0   \n",
       "\n",
       "           Sentiment  \n",
       "Date                  \n",
       "2012-09-04       NaN  \n",
       "2012-09-05       NaN  \n",
       "2012-09-06       NaN  \n",
       "2012-09-07       NaN  \n",
       "2012-09-10       NaN  \n",
       "...              ...  \n",
       "2017-08-28       NaN  \n",
       "2017-08-29       NaN  \n",
       "2017-08-30       NaN  \n",
       "2017-08-31       NaN  \n",
       "2017-09-01       NaN  \n",
       "\n",
       "[1411 rows x 7 columns]"
      ]
     },
     "execution_count": 39,
     "metadata": {},
     "output_type": "execute_result"
    }
   ],
   "source": [
    "combined_df"
   ]
  },
  {
   "cell_type": "markdown",
   "id": "b2f05418",
   "metadata": {},
   "source": [
    "# 1.1 Stock price with sentiment data"
   ]
  },
  {
   "cell_type": "code",
   "execution_count": 40,
   "id": "661e20c8-d5b1-4dbf-a378-371db02250a7",
   "metadata": {
    "id": "661e20c8-d5b1-4dbf-a378-371db02250a7",
    "outputId": "1ca1107f-e54c-428f-ba62-fdb6c48b7450"
   },
   "outputs": [
    {
     "data": {
      "text/plain": [
       "Text(0, 0.5, 'Opening Price')"
      ]
     },
     "execution_count": 40,
     "metadata": {},
     "output_type": "execute_result"
    },
    {
     "data": {
      "image/png": "[encoded data removed]",
      "text/plain": [
       "<Figure size 1500x500 with 1 Axes>"
      ]
     },
     "metadata": {},
     "output_type": "display_data"
    }
   ],
   "source": [
    "df = combined_df.loc[(combined_df.index > '2014-01-01') & (combined_df.index < '2015-12-31')]\n",
    "\n",
    "\n",
    "fig, ax = plt.subplots(figsize=(15, 5))\n",
    "ax.plot(df.index, df['Open'], label='Opening Price', color='black')\n",
    "\n",
    "for i in range(1, len(df)):\n",
    "    prev_date = df.index[i - 1]\n",
    "    curr_date = df.index[i]\n",
    "\n",
    "    # Determine the sentiment color for the region\n",
    "    color_map = {'POS': 'green', 'NEG': 'red', 'NEU': 'gray', np.nan: 'gray'}\n",
    "\n",
    "    sentiment = df['Sentiment'].iloc[i]\n",
    "    color = color_map.get(sentiment, 'gray')\n",
    "\n",
    "    # Use ax.axhspan to color the region between two dates\n",
    "    ax.axvspan(prev_date, curr_date, color=color, alpha=0.3)\n",
    "\n",
    "ax.set_title('INTC Stock Price Opening Price with Daily Tweet Sentiment', fontsize=16)\n",
    "ax.set_xlabel('Date')\n",
    "ax.set_ylabel('Opening Price')"
   ]
  },
  {
   "cell_type": "code",
   "execution_count": 41,
   "id": "274a1a38-4af6-42f4-bb86-d205fdec9b22",
   "metadata": {
    "id": "274a1a38-4af6-42f4-bb86-d205fdec9b22"
   },
   "outputs": [],
   "source": [
    "def majority_sentiment(sentiments):\n",
    "    pos_count = (sentiments == 'POS').sum()\n",
    "    neg_count = (sentiments == 'NEG').sum()\n",
    "    neu_count = (sentiments == 'NEU').sum()\n",
    "\n",
    "    if pos_count > neg_count and pos_count > neu_count:\n",
    "        return 'POS'\n",
    "    elif neg_count > pos_count and neg_count > neu_count:\n",
    "        return 'NEG'\n",
    "    else:\n",
    "        return 'NEU'"
   ]
  },
  {
   "cell_type": "markdown",
   "id": "5903fa2c",
   "metadata": {},
   "source": [
    "# With the majority sentiment determined the last 5 days"
   ]
  },
  {
   "cell_type": "code",
   "execution_count": 42,
   "id": "4fc3b722-d749-4852-9145-5319a30e2dec",
   "metadata": {
    "id": "4fc3b722-d749-4852-9145-5319a30e2dec",
    "outputId": "30779d44-7395-42e4-f830-d17d8372cf2c"
   },
   "outputs": [
    {
     "data": {
      "image/png": "[encoded data removed]",
      "text/plain": [
       "<Figure size 1500x500 with 1 Axes>"
      ]
     },
     "metadata": {},
     "output_type": "display_data"
    }
   ],
   "source": [
    "fig, ax = plt.subplots(figsize=(15, 5))\n",
    "\n",
    "ax.plot(df.index, df['Open'], label='Opening Price', color='black')\n",
    "\n",
    "for i in range(4, len(df)):  # Start at 4 since we need to look back 4 days\n",
    "    prev_date = df.index[i - 4]  #\n",
    "    curr_date = df.index[i]\n",
    "\n",
    "    sentiment_last_five_days = df['Sentiment'].iloc[i-4:i+1]\n",
    "\n",
    "    # Determine the majority sentiment over the last 5 days\n",
    "    majority = majority_sentiment(sentiment_last_five_days)\n",
    "\n",
    "\n",
    "    color = color_map.get(majority, 'gray')\n",
    "    ax.axvspan(prev_date, curr_date, color=color, alpha=0.3)\n",
    "\n",
    "\n",
    "ax.set_title('INTC Stock Price Opening Price with Majority Sentiment Regions (Last 5 Days)', fontsize=16)\n",
    "ax.set_xlabel('Date')\n",
    "ax.set_ylabel('Opening Price')\n",
    "\n",
    "\n",
    "plt.show()"
   ]
  },
  {
   "cell_type": "markdown",
   "id": "73f235f5",
   "metadata": {},
   "source": [
    "## Declaration Date \n",
    "\n",
    "De"
   ]
  },
  {
   "cell_type": "markdown",
   "id": "666a65db",
   "metadata": {},
   "source": []
  },
  {
   "cell_type": "code",
   "execution_count": 49,
   "id": "48e09350",
   "metadata": {},
   "outputs": [
    {
     "data": {
      "image/png": "[encoded data removed]",
      "text/plain": [
       "<Figure size 1500x500 with 1 Axes>"
      ]
     },
     "metadata": {},
     "output_type": "display_data"
    }
   ],
   "source": [
    "import pandas as pd\n",
    "import matplotlib.pyplot as plt\n",
    "\n",
    "dividend_dates = ['09/10/2015', '07/22/2015', '03/18/2015', \n",
    "                  '01/22/2015', '09/11/2014', '07/23/2014', \n",
    "                  '03/18/2014', '01/22/2014']\n",
    "\n",
    "dividend_dates = pd.to_datetime(dividend_dates)\n",
    "\n",
    "dividend_declaration = pd.DataFrame({'Dividend Declaration': dividend_dates})\n",
    "fig, ax = plt.subplots(figsize=(15, 5))\n",
    "ax.plot(df.index, df['Open'], label='Opening Price', color='black')\n",
    "\n",
    "# dividend declaration date\n",
    "for date in dividend_dates:\n",
    "    ax.axvline(x=date, color='black', linestyle='--', label='Dividend Declaration' if date == dividend_dates[0] else \"\")\n",
    "\n",
    "\n",
    "for i in range(4, len(df)):  \n",
    "    prev_date = df.index[i - 4]  \n",
    "    curr_date = df.index[i]\n",
    "\n",
    "    sentiment_last_five_days = df['Sentiment'].iloc[i-4:i+1]\n",
    "\n",
    "    majority = majority_sentiment(sentiment_last_five_days)\n",
    "\n",
    "    color = color_map.get(majority, 'gray')\n",
    "    ax.axvspan(prev_date, curr_date, color=color, alpha=0.3)\n",
    "\n",
    "\n",
    "ax.set_title('INTC Stock Price Opening Price with Dividend Declarations and Majority Sentiment Regions (Last 5 Days)', fontsize=16)\n",
    "ax.set_xlabel('Date')\n",
    "ax.set_ylabel('Opening Price')\n",
    "\n",
    "ax.legend()\n",
    "\n",
    "plt.show()\n"
   ]
  }
 ],
 "metadata": {
  "colab": {
   "provenance": []
  },
  "kernelspec": {
   "display_name": "Python 3 (ipykernel)",
   "language": "python",
   "name": "python3"
  },
  "language_info": {
   "codemirror_mode": {
    "name": "ipython",
    "version": 3
   },
   "file_extension": ".py",
   "mimetype": "text/x-python",
   "name": "python",
   "nbconvert_exporter": "python",
   "pygments_lexer": "ipython3",
   "version": "3.12.6"
  }
 },
 "nbformat": 4,
 "nbformat_minor": 5
}
